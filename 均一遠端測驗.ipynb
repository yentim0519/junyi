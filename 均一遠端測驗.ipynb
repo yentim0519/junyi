{
 "cells": [
  {
   "cell_type": "code",
   "execution_count": 1,
   "metadata": {},
   "outputs": [],
   "source": [
    "import numpy as np\n",
    "import pandas as pd"
   ]
  },
  {
   "cell_type": "markdown",
   "metadata": {},
   "source": [
    "### 1(A)"
   ]
  },
  {
   "cell_type": "code",
   "execution_count": 12,
   "metadata": {},
   "outputs": [],
   "source": [
    "def f(string):\n",
    "    a = list(string)\n",
    "    a.reverse()\n",
    "    b = ''.join(a)\n",
    "    return b "
   ]
  },
  {
   "cell_type": "code",
   "execution_count": 13,
   "metadata": {},
   "outputs": [
    {
     "data": {
      "text/plain": [
       "'ymedacaiynuj'"
      ]
     },
     "execution_count": 13,
     "metadata": {},
     "output_type": "execute_result"
    }
   ],
   "source": [
    "f('junyiacademy')"
   ]
  },
  {
   "cell_type": "markdown",
   "metadata": {},
   "source": [
    "### 1(B)"
   ]
  },
  {
   "cell_type": "code",
   "execution_count": 18,
   "metadata": {},
   "outputs": [],
   "source": [
    "def f(string):\n",
    "    a = string.split(' ')\n",
    "    \n",
    "    for i in range(len(a)):\n",
    "        b = list(a[i])\n",
    "        b.reverse()\n",
    "        a[i] = ''.join(b)\n",
    "    \n",
    "    c = ' '.join(a)\n",
    "    \n",
    "    return c"
   ]
  },
  {
   "cell_type": "code",
   "execution_count": 19,
   "metadata": {},
   "outputs": [
    {
     "data": {
      "text/plain": [
       "'deppilf ssalc moor si tnatropmi'"
      ]
     },
     "execution_count": 19,
     "metadata": {},
     "output_type": "execute_result"
    }
   ],
   "source": [
    "f('flipped class room is important')"
   ]
  },
  {
   "cell_type": "markdown",
   "metadata": {},
   "source": [
    "### 2"
   ]
  },
  {
   "cell_type": "code",
   "execution_count": 37,
   "metadata": {},
   "outputs": [
    {
     "name": "stdout",
     "output_type": "stream",
     "text": [
      "15\n",
      "[1, 2, 4, 7, 8, 11, 13, 14, 15]\n"
     ]
    }
   ],
   "source": [
    "a = int(input())\n",
    "b = []\n",
    "\n",
    "for i in range(a):\n",
    "    b.append(i + 1)\n",
    "\n",
    "for i in range(len(b)):\n",
    "    if (b[i]%3 == 0) and (b[i]%15 != 0):\n",
    "        b[i] = 0\n",
    "    if (b[i]%5 == 0) and (b[i]%15 != 0): \n",
    "        b[i] = 0\n",
    "\n",
    "b = [x for x in b if x != 0]\n",
    "print(b)"
   ]
  },
  {
   "cell_type": "markdown",
   "metadata": {},
   "source": [
    "### 3"
   ]
  },
  {
   "cell_type": "markdown",
   "metadata": {},
   "source": [
    "我會先看混合的，裡面會有兩種情況 1. 裡面是原子筆 2. 裡面是鉛筆\n",
    "1. 剩下的鉛筆一定不可能裝鉛筆，於是寫鉛筆的袋子會裝混合的，寫原子筆的就是裝鉛筆\n",
    "2. 剩下的原子筆一定不可能裝原子筆，於是寫原子筆的袋子會裝混合的，寫鉛筆的就是裝混合的"
   ]
  },
  {
   "cell_type": "markdown",
   "metadata": {},
   "source": [
    "### 4"
   ]
  },
  {
   "cell_type": "code",
   "execution_count": null,
   "metadata": {},
   "outputs": [],
   "source": [
    "每個人應該是ㄈㄨ"
   ]
  }
 ],
 "metadata": {
  "kernelspec": {
   "display_name": "Python 3",
   "language": "python",
   "name": "python3"
  },
  "language_info": {
   "codemirror_mode": {
    "name": "ipython",
    "version": 3
   },
   "file_extension": ".py",
   "mimetype": "text/x-python",
   "name": "python",
   "nbconvert_exporter": "python",
   "pygments_lexer": "ipython3",
   "version": "3.7.4"
  }
 },
 "nbformat": 4,
 "nbformat_minor": 2
}
